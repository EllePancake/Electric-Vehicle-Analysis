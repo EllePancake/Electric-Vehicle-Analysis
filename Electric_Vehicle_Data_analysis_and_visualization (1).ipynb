{
  "nbformat": 4,
  "nbformat_minor": 0,
  "metadata": {
    "colab": {
      "provenance": [],
      "collapsed_sections": [
        "3HI4Rptg2PdT"
      ]
    },
    "kernelspec": {
      "name": "python3",
      "display_name": "Python 3"
    },
    "language_info": {
      "name": "python"
    }
  },
  "cells": [
    {
      "cell_type": "markdown",
      "source": [
        "# Electric Vehicle Data analysis and visualization\n",
        "\n",
        "## By Kubra & Liberty\n",
        "\n",
        "\n",
        "# The goal of the project\n",
        "\n",
        "**To provide insights as to where different countries can improve in order to hit their electric vehicle targets. **\n",
        "\n",
        "By analysing the dataset in conjunction with coordinating horizontal information we will look for patterns and create a projection as to whether or not different countries will meet their target electric vehicle goals. "
      ],
      "metadata": {
        "id": "sDWSBKNpxSru"
      }
    },
    {
      "cell_type": "markdown",
      "source": [
        "## Project Explanation\n",
        "\n",
        "The dataset is from the International Energy Agency. It contains the following columns:\n",
        "\n",
        "*   Region - Allows you to view information by either country or by world \n",
        "*   Category - Historical, Projection-APS, or Project-STEPS\n",
        "*   Parameter - Which parameter you want to view\n",
        "*   Mode - The type of vehicle\n",
        "*   Powertrain - The kind of electricity used by the vehicle\n",
        "*   Year - The year the data belongs to\n",
        "*   Unit - The unit of value\n",
        "*   Value - A number depending on the parameter chosen"
      ],
      "metadata": {
        "id": "a6dG9wbbhmiy"
      }
    },
    {
      "cell_type": "markdown",
      "source": [
        "## (See imports and basic sanity check in the appendix.)"
      ],
      "metadata": {
        "id": "IHYogoockE5s"
      }
    },
    {
      "cell_type": "markdown",
      "source": [
        "# Column Exploration"
      ],
      "metadata": {
        "id": "Ilh1u8FYvpWl"
      }
    },
    {
      "cell_type": "code",
      "source": [
        "#How many rows exist for each country?\n",
        "#df['region'].value_counts()\n",
        "plt.figure(figsize=(7,7))\n",
        "g = sns.countplot(y=df['region'])\n",
        "plt.title('How many rows exist for each country?')\n",
        "plt.xlabel('Number of rows')\n",
        "plt.ylabel('Country')\n",
        "plt.show()"
      ],
      "metadata": {
        "colab": {
          "base_uri": "https://localhost:8080/",
          "height": 458
        },
        "id": "Mrn7ffJ2yoEl",
        "outputId": "5ec6a90a-337a-4591-8be8-8263f921b721"
      },
      "execution_count": null,
      "outputs": [
        {
          "output_type": "display_data",
          "data": {
            "text/plain": [
              "<Figure size 504x504 with 1 Axes>"
            ],
            "image/png": "[encoded data removed]"
          },
          "metadata": {
            "needs_background": "light"
          }
        }
      ]
    },
    {
      "cell_type": "code",
      "source": [
        "#What countries are they?\n",
        "df.region.unique()"
      ],
      "metadata": {
        "colab": {
          "base_uri": "https://localhost:8080/"
        },
        "id": "1Mqus3xEw8r2",
        "outputId": "b1d33e62-91e7-4433-eba6-c218d796bc21"
      },
      "execution_count": null,
      "outputs": [
        {
          "output_type": "execute_result",
          "data": {
            "text/plain": [
              "array(['Australia', 'Belgium', 'Brazil', 'Canada', 'Chile', 'China',\n",
              "       'Denmark', 'Europe', 'Finland', 'France', 'Germany', 'Greece',\n",
              "       'Iceland', 'India', 'Indonesia', 'Italy', 'Japan', 'Korea',\n",
              "       'Mexico', 'Netherlands', 'New Zealand', 'Norway', 'Other Europe',\n",
              "       'Poland', 'Portugal', 'Rest of the world', 'South Africa', 'Spain',\n",
              "       'Sweden', 'Switzerland', 'Thailand', 'United Kingdom', 'USA',\n",
              "       'World'], dtype=object)"
            ]
          },
          "metadata": {},
          "execution_count": 16
        }
      ]
    },
    {
      "cell_type": "code",
      "source": [
        "#How are EV sales shown in the value column?\n",
        "EV_sales = df[df['parameter'] == 'EV sales']\n",
        "EV_sales"
      ],
      "metadata": {
        "colab": {
          "base_uri": "https://localhost:8080/",
          "height": 424
        },
        "id": "JYG0aAXtyzls",
        "outputId": "3e9fb10d-0e99-4dda-f34e-54437330860e"
      },
      "execution_count": null,
      "outputs": [
        {
          "output_type": "execute_result",
          "data": {
            "text/plain": [
              "         region          category parameter    mode powertrain  year   unit  \\\n",
              "0     Australia        Historical  EV sales    Cars        BEV  2011  sales   \n",
              "7     Australia        Historical  EV sales    Cars       PHEV  2012  sales   \n",
              "9     Australia        Historical  EV sales    Cars        BEV  2012  sales   \n",
              "10    Australia        Historical  EV sales    Cars        BEV  2013  sales   \n",
              "12    Australia        Historical  EV sales    Cars       PHEV  2013  sales   \n",
              "...         ...               ...       ...     ...        ...   ...    ...   \n",
              "6987      World  Projection-STEPS  EV sales  Trucks       PHEV  2030  sales   \n",
              "6988      World  Projection-STEPS  EV sales    Vans        BEV  2030  sales   \n",
              "6989      World  Projection-STEPS  EV sales    Vans       PHEV  2030  sales   \n",
              "6990      World  Projection-STEPS  EV sales    Cars        BEV  2030  sales   \n",
              "6991      World  Projection-STEPS  EV sales    Cars       PHEV  2030  sales   \n",
              "\n",
              "             value  \n",
              "0     4.900000e+01  \n",
              "7     8.000000e+01  \n",
              "9     1.730000e+02  \n",
              "10    1.910000e+02  \n",
              "12    1.020000e+02  \n",
              "...            ...  \n",
              "6987  1.730537e+05  \n",
              "6988  2.685216e+06  \n",
              "6989  2.516651e+05  \n",
              "6990  2.197704e+07  \n",
              "6991  5.719586e+06  \n",
              "\n",
              "[1522 rows x 8 columns]"
            ],
            "text/html": [
              "\n",
              "  <div id=\"df-546db71b-8379-4597-989c-945f5d220e7c\">\n",
              "    <div class=\"colab-df-container\">\n",
              "      <div>\n",
              "<style scoped>\n",
              "    .dataframe tbody tr th:only-of-type {\n",
              "        vertical-align: middle;\n",
              "    }\n",
              "\n",
              "    .dataframe tbody tr th {\n",
              "        vertical-align: top;\n",
              "    }\n",
              "\n",
              "    .dataframe thead th {\n",
              "        text-align: right;\n",
              "    }\n",
              "</style>\n",
              "<table border=\"1\" class=\"dataframe\">\n",
              "  <thead>\n",
              "    <tr style=\"text-align: right;\">\n",
              "      <th></th>\n",
              "      <th>region</th>\n",
              "      <th>category</th>\n",
              "      <th>parameter</th>\n",
              "      <th>mode</th>\n",
              "      <th>powertrain</th>\n",
              "      <th>year</th>\n",
              "      <th>unit</th>\n",
              "      <th>value</th>\n",
              "    </tr>\n",
              "  </thead>\n",
              "  <tbody>\n",
              "    <tr>\n",
              "      <th>0</th>\n",
              "      <td>Australia</td>\n",
              "      <td>Historical</td>\n",
              "      <td>EV sales</td>\n",
              "      <td>Cars</td>\n",
              "      <td>BEV</td>\n",
              "      <td>2011</td>\n",
              "      <td>sales</td>\n",
              "      <td>4.900000e+01</td>\n",
              "    </tr>\n",
              "    <tr>\n",
              "      <th>7</th>\n",
              "      <td>Australia</td>\n",
              "      <td>Historical</td>\n",
              "      <td>EV sales</td>\n",
              "      <td>Cars</td>\n",
              "      <td>PHEV</td>\n",
              "      <td>2012</td>\n",
              "      <td>sales</td>\n",
              "      <td>8.000000e+01</td>\n",
              "    </tr>\n",
              "    <tr>\n",
              "      <th>9</th>\n",
              "      <td>Australia</td>\n",
              "      <td>Historical</td>\n",
              "      <td>EV sales</td>\n",
              "      <td>Cars</td>\n",
              "      <td>BEV</td>\n",
              "      <td>2012</td>\n",
              "      <td>sales</td>\n",
              "      <td>1.730000e+02</td>\n",
              "    </tr>\n",
              "    <tr>\n",
              "      <th>10</th>\n",
              "      <td>Australia</td>\n",
              "      <td>Historical</td>\n",
              "      <td>EV sales</td>\n",
              "      <td>Cars</td>\n",
              "      <td>BEV</td>\n",
              "      <td>2013</td>\n",
              "      <td>sales</td>\n",
              "      <td>1.910000e+02</td>\n",
              "    </tr>\n",
              "    <tr>\n",
              "      <th>12</th>\n",
              "      <td>Australia</td>\n",
              "      <td>Historical</td>\n",
              "      <td>EV sales</td>\n",
              "      <td>Cars</td>\n",
              "      <td>PHEV</td>\n",
              "      <td>2013</td>\n",
              "      <td>sales</td>\n",
              "      <td>1.020000e+02</td>\n",
              "    </tr>\n",
              "    <tr>\n",
              "      <th>...</th>\n",
              "      <td>...</td>\n",
              "      <td>...</td>\n",
              "      <td>...</td>\n",
              "      <td>...</td>\n",
              "      <td>...</td>\n",
              "      <td>...</td>\n",
              "      <td>...</td>\n",
              "      <td>...</td>\n",
              "    </tr>\n",
              "    <tr>\n",
              "      <th>6987</th>\n",
              "      <td>World</td>\n",
              "      <td>Projection-STEPS</td>\n",
              "      <td>EV sales</td>\n",
              "      <td>Trucks</td>\n",
              "      <td>PHEV</td>\n",
              "      <td>2030</td>\n",
              "      <td>sales</td>\n",
              "      <td>1.730537e+05</td>\n",
              "    </tr>\n",
              "    <tr>\n",
              "      <th>6988</th>\n",
              "      <td>World</td>\n",
              "      <td>Projection-STEPS</td>\n",
              "      <td>EV sales</td>\n",
              "      <td>Vans</td>\n",
              "      <td>BEV</td>\n",
              "      <td>2030</td>\n",
              "      <td>sales</td>\n",
              "      <td>2.685216e+06</td>\n",
              "    </tr>\n",
              "    <tr>\n",
              "      <th>6989</th>\n",
              "      <td>World</td>\n",
              "      <td>Projection-STEPS</td>\n",
              "      <td>EV sales</td>\n",
              "      <td>Vans</td>\n",
              "      <td>PHEV</td>\n",
              "      <td>2030</td>\n",
              "      <td>sales</td>\n",
              "      <td>2.516651e+05</td>\n",
              "    </tr>\n",
              "    <tr>\n",
              "      <th>6990</th>\n",
              "      <td>World</td>\n",
              "      <td>Projection-STEPS</td>\n",
              "      <td>EV sales</td>\n",
              "      <td>Cars</td>\n",
              "      <td>BEV</td>\n",
              "      <td>2030</td>\n",
              "      <td>sales</td>\n",
              "      <td>2.197704e+07</td>\n",
              "    </tr>\n",
              "    <tr>\n",
              "      <th>6991</th>\n",
              "      <td>World</td>\n",
              "      <td>Projection-STEPS</td>\n",
              "      <td>EV sales</td>\n",
              "      <td>Cars</td>\n",
              "      <td>PHEV</td>\n",
              "      <td>2030</td>\n",
              "      <td>sales</td>\n",
              "      <td>5.719586e+06</td>\n",
              "    </tr>\n",
              "  </tbody>\n",
              "</table>\n",
              "<p>1522 rows × 8 columns</p>\n",
              "</div>\n",
              "      <button class=\"colab-df-convert\" onclick=\"convertToInteractive('df-546db71b-8379-4597-989c-945f5d220e7c')\"\n",
              "              title=\"Convert this dataframe to an interactive table.\"\n",
              "              style=\"display:none;\">\n",
              "        \n",
              "  <svg xmlns=\"http://www.w3.org/2000/svg\" height=\"24px\"viewBox=\"0 0 24 24\"\n",
              "       width=\"24px\">\n",
              "    <path d=\"M0 0h24v24H0V0z\" fill=\"none\"/>\n",
              "    <path d=\"M18.56 5.44l.94 2.06.94-2.06 2.06-.94-2.06-.94-.94-2.06-.94 2.06-2.06.94zm-11 1L8.5 8.5l.94-2.06 2.06-.94-2.06-.94L8.5 2.5l-.94 2.06-2.06.94zm10 10l.94 2.06.94-2.06 2.06-.94-2.06-.94-.94-2.06-.94 2.06-2.06.94z\"/><path d=\"M17.41 7.96l-1.37-1.37c-.4-.4-.92-.59-1.43-.59-.52 0-1.04.2-1.43.59L10.3 9.45l-7.72 7.72c-.78.78-.78 2.05 0 2.83L4 21.41c.39.39.9.59 1.41.59.51 0 1.02-.2 1.41-.59l7.78-7.78 2.81-2.81c.8-.78.8-2.07 0-2.86zM5.41 20L4 18.59l7.72-7.72 1.47 1.35L5.41 20z\"/>\n",
              "  </svg>\n",
              "      </button>\n",
              "      \n",
              "  <style>\n",
              "    .colab-df-container {\n",
              "      display:flex;\n",
              "      flex-wrap:wrap;\n",
              "      gap: 12px;\n",
              "    }\n",
              "\n",
              "    .colab-df-convert {\n",
              "      background-color: #E8F0FE;\n",
              "      border: none;\n",
              "      border-radius: 50%;\n",
              "      cursor: pointer;\n",
              "      display: none;\n",
              "      fill: #1967D2;\n",
              "      height: 32px;\n",
              "      padding: 0 0 0 0;\n",
              "      width: 32px;\n",
              "    }\n",
              "\n",
              "    .colab-df-convert:hover {\n",
              "      background-color: #E2EBFA;\n",
              "      box-shadow: 0px 1px 2px rgba(60, 64, 67, 0.3), 0px 1px 3px 1px rgba(60, 64, 67, 0.15);\n",
              "      fill: #174EA6;\n",
              "    }\n",
              "\n",
              "    [theme=dark] .colab-df-convert {\n",
              "      background-color: #3B4455;\n",
              "      fill: #D2E3FC;\n",
              "    }\n",
              "\n",
              "    [theme=dark] .colab-df-convert:hover {\n",
              "      background-color: #434B5C;\n",
              "      box-shadow: 0px 1px 3px 1px rgba(0, 0, 0, 0.15);\n",
              "      filter: drop-shadow(0px 1px 2px rgba(0, 0, 0, 0.3));\n",
              "      fill: #FFFFFF;\n",
              "    }\n",
              "  </style>\n",
              "\n",
              "      <script>\n",
              "        const buttonEl =\n",
              "          document.querySelector('#df-546db71b-8379-4597-989c-945f5d220e7c button.colab-df-convert');\n",
              "        buttonEl.style.display =\n",
              "          google.colab.kernel.accessAllowed ? 'block' : 'none';\n",
              "\n",
              "        async function convertToInteractive(key) {\n",
              "          const element = document.querySelector('#df-546db71b-8379-4597-989c-945f5d220e7c');\n",
              "          const dataTable =\n",
              "            await google.colab.kernel.invokeFunction('convertToInteractive',\n",
              "                                                     [key], {});\n",
              "          if (!dataTable) return;\n",
              "\n",
              "          const docLinkHtml = 'Like what you see? Visit the ' +\n",
              "            '<a target=\"_blank\" href=https://colab.research.google.com/notebooks/data_table.ipynb>data table notebook</a>'\n",
              "            + ' to learn more about interactive tables.';\n",
              "          element.innerHTML = '';\n",
              "          dataTable['output_type'] = 'display_data';\n",
              "          await google.colab.output.renderOutput(dataTable, element);\n",
              "          const docLink = document.createElement('div');\n",
              "          docLink.innerHTML = docLinkHtml;\n",
              "          element.appendChild(docLink);\n",
              "        }\n",
              "      </script>\n",
              "    </div>\n",
              "  </div>\n",
              "  "
            ]
          },
          "metadata": {},
          "execution_count": 18
        }
      ]
    },
    {
      "cell_type": "code",
      "source": [
        "#What are all EV sales for 2019?\n",
        "\n",
        "#All of these work to give us the same answer.\n",
        "#I just wanted to mess around with different functions. \n",
        "\n",
        "#EV_sales[EV_sales['year'] == 2019]\n",
        "#df.query('parameter == \"EV sales\" & year ==2019')\n",
        "df[(df.parameter == 'EV sales') & (df.year == 2019)]"
      ],
      "metadata": {
        "colab": {
          "base_uri": "https://localhost:8080/",
          "height": 424
        },
        "id": "NY7UQuUQ5up0",
        "outputId": "f6d7d77d-f0e4-4445-8c6c-6e4543bde4bd"
      },
      "execution_count": null,
      "outputs": [
        {
          "output_type": "execute_result",
          "data": {
            "text/plain": [
              "              region    category parameter   mode powertrain  year   unit  \\\n",
              "52         Australia  Historical  EV sales   Cars       PHEV  2019  sales   \n",
              "54         Australia  Historical  EV sales   Cars        BEV  2019  sales   \n",
              "237          Belgium  Historical  EV sales   Cars       PHEV  2019  sales   \n",
              "239          Belgium  Historical  EV sales   Cars        BEV  2019  sales   \n",
              "248          Belgium  Historical  EV sales  Buses        BEV  2019  sales   \n",
              "...              ...         ...       ...    ...        ...   ...    ...   \n",
              "6275  United Kingdom  Historical  EV sales   Vans       PHEV  2019  sales   \n",
              "6420             USA  Historical  EV sales   Cars       PHEV  2019  sales   \n",
              "6421             USA  Historical  EV sales   Cars        BEV  2019  sales   \n",
              "6766           World  Historical  EV sales   Cars        BEV  2019  sales   \n",
              "6767           World  Historical  EV sales   Cars       PHEV  2019  sales   \n",
              "\n",
              "          value  \n",
              "52       2877.0  \n",
              "54       6283.0  \n",
              "237      8830.0  \n",
              "239      8947.0  \n",
              "248        37.0  \n",
              "...         ...  \n",
              "6275      205.0  \n",
              "6420    84732.0  \n",
              "6421   241912.0  \n",
              "6766  1545057.0  \n",
              "6767   578290.0  \n",
              "\n",
              "[126 rows x 8 columns]"
            ],
            "text/html": [
              "\n",
              "  <div id=\"df-db1143f5-b0f2-4563-8e49-a20eec08b4a0\">\n",
              "    <div class=\"colab-df-container\">\n",
              "      <div>\n",
              "<style scoped>\n",
              "    .dataframe tbody tr th:only-of-type {\n",
              "        vertical-align: middle;\n",
              "    }\n",
              "\n",
              "    .dataframe tbody tr th {\n",
              "        vertical-align: top;\n",
              "    }\n",
              "\n",
              "    .dataframe thead th {\n",
              "        text-align: right;\n",
              "    }\n",
              "</style>\n",
              "<table border=\"1\" class=\"dataframe\">\n",
              "  <thead>\n",
              "    <tr style=\"text-align: right;\">\n",
              "      <th></th>\n",
              "      <th>region</th>\n",
              "      <th>category</th>\n",
              "      <th>parameter</th>\n",
              "      <th>mode</th>\n",
              "      <th>powertrain</th>\n",
              "      <th>year</th>\n",
              "      <th>unit</th>\n",
              "      <th>value</th>\n",
              "    </tr>\n",
              "  </thead>\n",
              "  <tbody>\n",
              "    <tr>\n",
              "      <th>52</th>\n",
              "      <td>Australia</td>\n",
              "      <td>Historical</td>\n",
              "      <td>EV sales</td>\n",
              "      <td>Cars</td>\n",
              "      <td>PHEV</td>\n",
              "      <td>2019</td>\n",
              "      <td>sales</td>\n",
              "      <td>2877.0</td>\n",
              "    </tr>\n",
              "    <tr>\n",
              "      <th>54</th>\n",
              "      <td>Australia</td>\n",
              "      <td>Historical</td>\n",
              "      <td>EV sales</td>\n",
              "      <td>Cars</td>\n",
              "      <td>BEV</td>\n",
              "      <td>2019</td>\n",
              "      <td>sales</td>\n",
              "      <td>6283.0</td>\n",
              "    </tr>\n",
              "    <tr>\n",
              "      <th>237</th>\n",
              "      <td>Belgium</td>\n",
              "      <td>Historical</td>\n",
              "      <td>EV sales</td>\n",
              "      <td>Cars</td>\n",
              "      <td>PHEV</td>\n",
              "      <td>2019</td>\n",
              "      <td>sales</td>\n",
              "      <td>8830.0</td>\n",
              "    </tr>\n",
              "    <tr>\n",
              "      <th>239</th>\n",
              "      <td>Belgium</td>\n",
              "      <td>Historical</td>\n",
              "      <td>EV sales</td>\n",
              "      <td>Cars</td>\n",
              "      <td>BEV</td>\n",
              "      <td>2019</td>\n",
              "      <td>sales</td>\n",
              "      <td>8947.0</td>\n",
              "    </tr>\n",
              "    <tr>\n",
              "      <th>248</th>\n",
              "      <td>Belgium</td>\n",
              "      <td>Historical</td>\n",
              "      <td>EV sales</td>\n",
              "      <td>Buses</td>\n",
              "      <td>BEV</td>\n",
              "      <td>2019</td>\n",
              "      <td>sales</td>\n",
              "      <td>37.0</td>\n",
              "    </tr>\n",
              "    <tr>\n",
              "      <th>...</th>\n",
              "      <td>...</td>\n",
              "      <td>...</td>\n",
              "      <td>...</td>\n",
              "      <td>...</td>\n",
              "      <td>...</td>\n",
              "      <td>...</td>\n",
              "      <td>...</td>\n",
              "      <td>...</td>\n",
              "    </tr>\n",
              "    <tr>\n",
              "      <th>6275</th>\n",
              "      <td>United Kingdom</td>\n",
              "      <td>Historical</td>\n",
              "      <td>EV sales</td>\n",
              "      <td>Vans</td>\n",
              "      <td>PHEV</td>\n",
              "      <td>2019</td>\n",
              "      <td>sales</td>\n",
              "      <td>205.0</td>\n",
              "    </tr>\n",
              "    <tr>\n",
              "      <th>6420</th>\n",
              "      <td>USA</td>\n",
              "      <td>Historical</td>\n",
              "      <td>EV sales</td>\n",
              "      <td>Cars</td>\n",
              "      <td>PHEV</td>\n",
              "      <td>2019</td>\n",
              "      <td>sales</td>\n",
              "      <td>84732.0</td>\n",
              "    </tr>\n",
              "    <tr>\n",
              "      <th>6421</th>\n",
              "      <td>USA</td>\n",
              "      <td>Historical</td>\n",
              "      <td>EV sales</td>\n",
              "      <td>Cars</td>\n",
              "      <td>BEV</td>\n",
              "      <td>2019</td>\n",
              "      <td>sales</td>\n",
              "      <td>241912.0</td>\n",
              "    </tr>\n",
              "    <tr>\n",
              "      <th>6766</th>\n",
              "      <td>World</td>\n",
              "      <td>Historical</td>\n",
              "      <td>EV sales</td>\n",
              "      <td>Cars</td>\n",
              "      <td>BEV</td>\n",
              "      <td>2019</td>\n",
              "      <td>sales</td>\n",
              "      <td>1545057.0</td>\n",
              "    </tr>\n",
              "    <tr>\n",
              "      <th>6767</th>\n",
              "      <td>World</td>\n",
              "      <td>Historical</td>\n",
              "      <td>EV sales</td>\n",
              "      <td>Cars</td>\n",
              "      <td>PHEV</td>\n",
              "      <td>2019</td>\n",
              "      <td>sales</td>\n",
              "      <td>578290.0</td>\n",
              "    </tr>\n",
              "  </tbody>\n",
              "</table>\n",
              "<p>126 rows × 8 columns</p>\n",
              "</div>\n",
              "      <button class=\"colab-df-convert\" onclick=\"convertToInteractive('df-db1143f5-b0f2-4563-8e49-a20eec08b4a0')\"\n",
              "              title=\"Convert this dataframe to an interactive table.\"\n",
              "              style=\"display:none;\">\n",
              "        \n",
              "  <svg xmlns=\"http://www.w3.org/2000/svg\" height=\"24px\"viewBox=\"0 0 24 24\"\n",
              "       width=\"24px\">\n",
              "    <path d=\"M0 0h24v24H0V0z\" fill=\"none\"/>\n",
              "    <path d=\"M18.56 5.44l.94 2.06.94-2.06 2.06-.94-2.06-.94-.94-2.06-.94 2.06-2.06.94zm-11 1L8.5 8.5l.94-2.06 2.06-.94-2.06-.94L8.5 2.5l-.94 2.06-2.06.94zm10 10l.94 2.06.94-2.06 2.06-.94-2.06-.94-.94-2.06-.94 2.06-2.06.94z\"/><path d=\"M17.41 7.96l-1.37-1.37c-.4-.4-.92-.59-1.43-.59-.52 0-1.04.2-1.43.59L10.3 9.45l-7.72 7.72c-.78.78-.78 2.05 0 2.83L4 21.41c.39.39.9.59 1.41.59.51 0 1.02-.2 1.41-.59l7.78-7.78 2.81-2.81c.8-.78.8-2.07 0-2.86zM5.41 20L4 18.59l7.72-7.72 1.47 1.35L5.41 20z\"/>\n",
              "  </svg>\n",
              "      </button>\n",
              "      \n",
              "  <style>\n",
              "    .colab-df-container {\n",
              "      display:flex;\n",
              "      flex-wrap:wrap;\n",
              "      gap: 12px;\n",
              "    }\n",
              "\n",
              "    .colab-df-convert {\n",
              "      background-color: #E8F0FE;\n",
              "      border: none;\n",
              "      border-radius: 50%;\n",
              "      cursor: pointer;\n",
              "      display: none;\n",
              "      fill: #1967D2;\n",
              "      height: 32px;\n",
              "      padding: 0 0 0 0;\n",
              "      width: 32px;\n",
              "    }\n",
              "\n",
              "    .colab-df-convert:hover {\n",
              "      background-color: #E2EBFA;\n",
              "      box-shadow: 0px 1px 2px rgba(60, 64, 67, 0.3), 0px 1px 3px 1px rgba(60, 64, 67, 0.15);\n",
              "      fill: #174EA6;\n",
              "    }\n",
              "\n",
              "    [theme=dark] .colab-df-convert {\n",
              "      background-color: #3B4455;\n",
              "      fill: #D2E3FC;\n",
              "    }\n",
              "\n",
              "    [theme=dark] .colab-df-convert:hover {\n",
              "      background-color: #434B5C;\n",
              "      box-shadow: 0px 1px 3px 1px rgba(0, 0, 0, 0.15);\n",
              "      filter: drop-shadow(0px 1px 2px rgba(0, 0, 0, 0.3));\n",
              "      fill: #FFFFFF;\n",
              "    }\n",
              "  </style>\n",
              "\n",
              "      <script>\n",
              "        const buttonEl =\n",
              "          document.querySelector('#df-db1143f5-b0f2-4563-8e49-a20eec08b4a0 button.colab-df-convert');\n",
              "        buttonEl.style.display =\n",
              "          google.colab.kernel.accessAllowed ? 'block' : 'none';\n",
              "\n",
              "        async function convertToInteractive(key) {\n",
              "          const element = document.querySelector('#df-db1143f5-b0f2-4563-8e49-a20eec08b4a0');\n",
              "          const dataTable =\n",
              "            await google.colab.kernel.invokeFunction('convertToInteractive',\n",
              "                                                     [key], {});\n",
              "          if (!dataTable) return;\n",
              "\n",
              "          const docLinkHtml = 'Like what you see? Visit the ' +\n",
              "            '<a target=\"_blank\" href=https://colab.research.google.com/notebooks/data_table.ipynb>data table notebook</a>'\n",
              "            + ' to learn more about interactive tables.';\n",
              "          element.innerHTML = '';\n",
              "          dataTable['output_type'] = 'display_data';\n",
              "          await google.colab.output.renderOutput(dataTable, element);\n",
              "          const docLink = document.createElement('div');\n",
              "          docLink.innerHTML = docLinkHtml;\n",
              "          element.appendChild(docLink);\n",
              "        }\n",
              "      </script>\n",
              "    </div>\n",
              "  </div>\n",
              "  "
            ]
          },
          "metadata": {},
          "execution_count": 19
        }
      ]
    },
    {
      "cell_type": "code",
      "source": [
        "#What does Spain's data look like?\n",
        "df[df['region'] == 'Spain']"
      ],
      "metadata": {
        "colab": {
          "base_uri": "https://localhost:8080/",
          "height": 424
        },
        "id": "XWVHfV3A2KDE",
        "outputId": "8ee5f313-9e8a-4474-a228-f335dd30097b"
      },
      "execution_count": null,
      "outputs": [
        {
          "output_type": "execute_result",
          "data": {
            "text/plain": [
              "     region    category       parameter    mode powertrain  year     unit  \\\n",
              "5506  Spain  Historical        EV sales    Cars        BEV  2010    sales   \n",
              "5507  Spain  Historical        EV stock    Cars        BEV  2010    stock   \n",
              "5508  Spain  Historical  EV sales share    Cars         EV  2010  percent   \n",
              "5509  Spain  Historical  EV stock share    Cars         EV  2010  percent   \n",
              "5510  Spain  Historical  EV stock share    Cars         EV  2011  percent   \n",
              "...     ...         ...             ...     ...        ...   ...      ...   \n",
              "5688  Spain  Historical        EV stock    Vans        BEV  2021    stock   \n",
              "5689  Spain  Historical        EV sales    Vans       PHEV  2021    sales   \n",
              "5690  Spain  Historical        EV stock    Vans       PHEV  2021    stock   \n",
              "5691  Spain  Historical        EV stock  Trucks        BEV  2021    stock   \n",
              "5692  Spain  Historical        EV stock    Cars       PHEV  2021    stock   \n",
              "\n",
              "             value  \n",
              "5506     76.000000  \n",
              "5507     76.000000  \n",
              "5508      0.007739  \n",
              "5509      0.000343  \n",
              "5510      0.002110  \n",
              "...            ...  \n",
              "5688  10496.000000  \n",
              "5689     26.000000  \n",
              "5690     26.000000  \n",
              "5691     29.000000  \n",
              "5692  86182.000000  \n",
              "\n",
              "[187 rows x 8 columns]"
            ],
            "text/html": [
              "\n",
              "  <div id=\"df-5241dbc2-dbb2-4761-a173-e9bc2676555b\">\n",
              "    <div class=\"colab-df-container\">\n",
              "      <div>\n",
              "<style scoped>\n",
              "    .dataframe tbody tr th:only-of-type {\n",
              "        vertical-align: middle;\n",
              "    }\n",
              "\n",
              "    .dataframe tbody tr th {\n",
              "        vertical-align: top;\n",
              "    }\n",
              "\n",
              "    .dataframe thead th {\n",
              "        text-align: right;\n",
              "    }\n",
              "</style>\n",
              "<table border=\"1\" class=\"dataframe\">\n",
              "  <thead>\n",
              "    <tr style=\"text-align: right;\">\n",
              "      <th></th>\n",
              "      <th>region</th>\n",
              "      <th>category</th>\n",
              "      <th>parameter</th>\n",
              "      <th>mode</th>\n",
              "      <th>powertrain</th>\n",
              "      <th>year</th>\n",
              "      <th>unit</th>\n",
              "      <th>value</th>\n",
              "    </tr>\n",
              "  </thead>\n",
              "  <tbody>\n",
              "    <tr>\n",
              "      <th>5506</th>\n",
              "      <td>Spain</td>\n",
              "      <td>Historical</td>\n",
              "      <td>EV sales</td>\n",
              "      <td>Cars</td>\n",
              "      <td>BEV</td>\n",
              "      <td>2010</td>\n",
              "      <td>sales</td>\n",
              "      <td>76.000000</td>\n",
              "    </tr>\n",
              "    <tr>\n",
              "      <th>5507</th>\n",
              "      <td>Spain</td>\n",
              "      <td>Historical</td>\n",
              "      <td>EV stock</td>\n",
              "      <td>Cars</td>\n",
              "      <td>BEV</td>\n",
              "      <td>2010</td>\n",
              "      <td>stock</td>\n",
              "      <td>76.000000</td>\n",
              "    </tr>\n",
              "    <tr>\n",
              "      <th>5508</th>\n",
              "      <td>Spain</td>\n",
              "      <td>Historical</td>\n",
              "      <td>EV sales share</td>\n",
              "      <td>Cars</td>\n",
              "      <td>EV</td>\n",
              "      <td>2010</td>\n",
              "      <td>percent</td>\n",
              "      <td>0.007739</td>\n",
              "    </tr>\n",
              "    <tr>\n",
              "      <th>5509</th>\n",
              "      <td>Spain</td>\n",
              "      <td>Historical</td>\n",
              "      <td>EV stock share</td>\n",
              "      <td>Cars</td>\n",
              "      <td>EV</td>\n",
              "      <td>2010</td>\n",
              "      <td>percent</td>\n",
              "      <td>0.000343</td>\n",
              "    </tr>\n",
              "    <tr>\n",
              "      <th>5510</th>\n",
              "      <td>Spain</td>\n",
              "      <td>Historical</td>\n",
              "      <td>EV stock share</td>\n",
              "      <td>Cars</td>\n",
              "      <td>EV</td>\n",
              "      <td>2011</td>\n",
              "      <td>percent</td>\n",
              "      <td>0.002110</td>\n",
              "    </tr>\n",
              "    <tr>\n",
              "      <th>...</th>\n",
              "      <td>...</td>\n",
              "      <td>...</td>\n",
              "      <td>...</td>\n",
              "      <td>...</td>\n",
              "      <td>...</td>\n",
              "      <td>...</td>\n",
              "      <td>...</td>\n",
              "      <td>...</td>\n",
              "    </tr>\n",
              "    <tr>\n",
              "      <th>5688</th>\n",
              "      <td>Spain</td>\n",
              "      <td>Historical</td>\n",
              "      <td>EV stock</td>\n",
              "      <td>Vans</td>\n",
              "      <td>BEV</td>\n",
              "      <td>2021</td>\n",
              "      <td>stock</td>\n",
              "      <td>10496.000000</td>\n",
              "    </tr>\n",
              "    <tr>\n",
              "      <th>5689</th>\n",
              "      <td>Spain</td>\n",
              "      <td>Historical</td>\n",
              "      <td>EV sales</td>\n",
              "      <td>Vans</td>\n",
              "      <td>PHEV</td>\n",
              "      <td>2021</td>\n",
              "      <td>sales</td>\n",
              "      <td>26.000000</td>\n",
              "    </tr>\n",
              "    <tr>\n",
              "      <th>5690</th>\n",
              "      <td>Spain</td>\n",
              "      <td>Historical</td>\n",
              "      <td>EV stock</td>\n",
              "      <td>Vans</td>\n",
              "      <td>PHEV</td>\n",
              "      <td>2021</td>\n",
              "      <td>stock</td>\n",
              "      <td>26.000000</td>\n",
              "    </tr>\n",
              "    <tr>\n",
              "      <th>5691</th>\n",
              "      <td>Spain</td>\n",
              "      <td>Historical</td>\n",
              "      <td>EV stock</td>\n",
              "      <td>Trucks</td>\n",
              "      <td>BEV</td>\n",
              "      <td>2021</td>\n",
              "      <td>stock</td>\n",
              "      <td>29.000000</td>\n",
              "    </tr>\n",
              "    <tr>\n",
              "      <th>5692</th>\n",
              "      <td>Spain</td>\n",
              "      <td>Historical</td>\n",
              "      <td>EV stock</td>\n",
              "      <td>Cars</td>\n",
              "      <td>PHEV</td>\n",
              "      <td>2021</td>\n",
              "      <td>stock</td>\n",
              "      <td>86182.000000</td>\n",
              "    </tr>\n",
              "  </tbody>\n",
              "</table>\n",
              "<p>187 rows × 8 columns</p>\n",
              "</div>\n",
              "      <button class=\"colab-df-convert\" onclick=\"convertToInteractive('df-5241dbc2-dbb2-4761-a173-e9bc2676555b')\"\n",
              "              title=\"Convert this dataframe to an interactive table.\"\n",
              "              style=\"display:none;\">\n",
              "        \n",
              "  <svg xmlns=\"http://www.w3.org/2000/svg\" height=\"24px\"viewBox=\"0 0 24 24\"\n",
              "       width=\"24px\">\n",
              "    <path d=\"M0 0h24v24H0V0z\" fill=\"none\"/>\n",
              "    <path d=\"M18.56 5.44l.94 2.06.94-2.06 2.06-.94-2.06-.94-.94-2.06-.94 2.06-2.06.94zm-11 1L8.5 8.5l.94-2.06 2.06-.94-2.06-.94L8.5 2.5l-.94 2.06-2.06.94zm10 10l.94 2.06.94-2.06 2.06-.94-2.06-.94-.94-2.06-.94 2.06-2.06.94z\"/><path d=\"M17.41 7.96l-1.37-1.37c-.4-.4-.92-.59-1.43-.59-.52 0-1.04.2-1.43.59L10.3 9.45l-7.72 7.72c-.78.78-.78 2.05 0 2.83L4 21.41c.39.39.9.59 1.41.59.51 0 1.02-.2 1.41-.59l7.78-7.78 2.81-2.81c.8-.78.8-2.07 0-2.86zM5.41 20L4 18.59l7.72-7.72 1.47 1.35L5.41 20z\"/>\n",
              "  </svg>\n",
              "      </button>\n",
              "      \n",
              "  <style>\n",
              "    .colab-df-container {\n",
              "      display:flex;\n",
              "      flex-wrap:wrap;\n",
              "      gap: 12px;\n",
              "    }\n",
              "\n",
              "    .colab-df-convert {\n",
              "      background-color: #E8F0FE;\n",
              "      border: none;\n",
              "      border-radius: 50%;\n",
              "      cursor: pointer;\n",
              "      display: none;\n",
              "      fill: #1967D2;\n",
              "      height: 32px;\n",
              "      padding: 0 0 0 0;\n",
              "      width: 32px;\n",
              "    }\n",
              "\n",
              "    .colab-df-convert:hover {\n",
              "      background-color: #E2EBFA;\n",
              "      box-shadow: 0px 1px 2px rgba(60, 64, 67, 0.3), 0px 1px 3px 1px rgba(60, 64, 67, 0.15);\n",
              "      fill: #174EA6;\n",
              "    }\n",
              "\n",
              "    [theme=dark] .colab-df-convert {\n",
              "      background-color: #3B4455;\n",
              "      fill: #D2E3FC;\n",
              "    }\n",
              "\n",
              "    [theme=dark] .colab-df-convert:hover {\n",
              "      background-color: #434B5C;\n",
              "      box-shadow: 0px 1px 3px 1px rgba(0, 0, 0, 0.15);\n",
              "      filter: drop-shadow(0px 1px 2px rgba(0, 0, 0, 0.3));\n",
              "      fill: #FFFFFF;\n",
              "    }\n",
              "  </style>\n",
              "\n",
              "      <script>\n",
              "        const buttonEl =\n",
              "          document.querySelector('#df-5241dbc2-dbb2-4761-a173-e9bc2676555b button.colab-df-convert');\n",
              "        buttonEl.style.display =\n",
              "          google.colab.kernel.accessAllowed ? 'block' : 'none';\n",
              "\n",
              "        async function convertToInteractive(key) {\n",
              "          const element = document.querySelector('#df-5241dbc2-dbb2-4761-a173-e9bc2676555b');\n",
              "          const dataTable =\n",
              "            await google.colab.kernel.invokeFunction('convertToInteractive',\n",
              "                                                     [key], {});\n",
              "          if (!dataTable) return;\n",
              "\n",
              "          const docLinkHtml = 'Like what you see? Visit the ' +\n",
              "            '<a target=\"_blank\" href=https://colab.research.google.com/notebooks/data_table.ipynb>data table notebook</a>'\n",
              "            + ' to learn more about interactive tables.';\n",
              "          element.innerHTML = '';\n",
              "          dataTable['output_type'] = 'display_data';\n",
              "          await google.colab.output.renderOutput(dataTable, element);\n",
              "          const docLink = document.createElement('div');\n",
              "          docLink.innerHTML = docLinkHtml;\n",
              "          element.appendChild(docLink);\n",
              "        }\n",
              "      </script>\n",
              "    </div>\n",
              "  </div>\n",
              "  "
            ]
          },
          "metadata": {},
          "execution_count": 20
        }
      ]
    },
    {
      "cell_type": "code",
      "source": [
        "#How many EVs did Spain sell in 2020?\n",
        "\n",
        "df_spain2020 = df[(df.parameter == 'EV sales') & (df.region == 'Spain') & (df.year == 2020)]"
      ],
      "metadata": {
        "id": "Qwo-SDfH8SRU"
      },
      "execution_count": null,
      "outputs": []
    },
    {
      "cell_type": "code",
      "source": [
        "plt.figure(figsize=(7,7))\n",
        "g = sns.barplot(y=df_spain2020['mode'], x = df_spain2020['value'])\n",
        "plt.title('How many EVs did Spain sell in 2020?')\n",
        "plt.xlabel('Amount Sold')\n",
        "plt.ylabel('Vehicle Type')\n",
        "plt.show()"
      ],
      "metadata": {
        "colab": {
          "base_uri": "https://localhost:8080/",
          "height": 458
        },
        "id": "rtHZ4c79m3x2",
        "outputId": "d271c43d-5f8e-465e-e9eb-0c88d4e975a0"
      },
      "execution_count": null,
      "outputs": [
        {
          "output_type": "display_data",
          "data": {
            "text/plain": [
              "<Figure size 504x504 with 1 Axes>"
            ],
            "image/png": "[encoded data removed]"
          },
          "metadata": {
            "needs_background": "light"
          }
        }
      ]
    },
    {
      "cell_type": "code",
      "source": [
        "#How many slow charging stations does Brazil have?\n",
        "\n",
        "dfbrazilcharge = df[(df.parameter == 'EV charging points') & (df.region == 'Brazil') & (df.powertrain == 'Publicly available slow')]"
      ],
      "metadata": {
        "id": "YTDFUg-W4UNy"
      },
      "execution_count": null,
      "outputs": []
    },
    {
      "cell_type": "code",
      "source": [
        "dfbrazilcharge"
      ],
      "metadata": {
        "colab": {
          "base_uri": "https://localhost:8080/",
          "height": 175
        },
        "id": "Zj2n_LZIqKac",
        "outputId": "a849b785-4169-4dd9-82ce-0e34e137a28f"
      },
      "execution_count": null,
      "outputs": [
        {
          "output_type": "execute_result",
          "data": {
            "text/plain": [
              "     region    category           parameter mode               powertrain  \\\n",
              "334  Brazil  Historical  EV charging points   EV  Publicly available slow   \n",
              "344  Brazil  Historical  EV charging points   EV  Publicly available slow   \n",
              "350  Brazil  Historical  EV charging points   EV  Publicly available slow   \n",
              "360  Brazil  Historical  EV charging points   EV  Publicly available slow   \n",
              "\n",
              "     year             unit       value  \n",
              "334  2018  charging points  454.407715  \n",
              "344  2019  charging points  454.407715  \n",
              "350  2020  charging points  454.407715  \n",
              "360  2021  charging points  454.407715  "
            ],
            "text/html": [
              "\n",
              "  <div id=\"df-0f4ce864-6f42-4af2-b85f-0d669ab5448b\">\n",
              "    <div class=\"colab-df-container\">\n",
              "      <div>\n",
              "<style scoped>\n",
              "    .dataframe tbody tr th:only-of-type {\n",
              "        vertical-align: middle;\n",
              "    }\n",
              "\n",
              "    .dataframe tbody tr th {\n",
              "        vertical-align: top;\n",
              "    }\n",
              "\n",
              "    .dataframe thead th {\n",
              "        text-align: right;\n",
              "    }\n",
              "</style>\n",
              "<table border=\"1\" class=\"dataframe\">\n",
              "  <thead>\n",
              "    <tr style=\"text-align: right;\">\n",
              "      <th></th>\n",
              "      <th>region</th>\n",
              "      <th>category</th>\n",
              "      <th>parameter</th>\n",
              "      <th>mode</th>\n",
              "      <th>powertrain</th>\n",
              "      <th>year</th>\n",
              "      <th>unit</th>\n",
              "      <th>value</th>\n",
              "    </tr>\n",
              "  </thead>\n",
              "  <tbody>\n",
              "    <tr>\n",
              "      <th>334</th>\n",
              "      <td>Brazil</td>\n",
              "      <td>Historical</td>\n",
              "      <td>EV charging points</td>\n",
              "      <td>EV</td>\n",
              "      <td>Publicly available slow</td>\n",
              "      <td>2018</td>\n",
              "      <td>charging points</td>\n",
              "      <td>454.407715</td>\n",
              "    </tr>\n",
              "    <tr>\n",
              "      <th>344</th>\n",
              "      <td>Brazil</td>\n",
              "      <td>Historical</td>\n",
              "      <td>EV charging points</td>\n",
              "      <td>EV</td>\n",
              "      <td>Publicly available slow</td>\n",
              "      <td>2019</td>\n",
              "      <td>charging points</td>\n",
              "      <td>454.407715</td>\n",
              "    </tr>\n",
              "    <tr>\n",
              "      <th>350</th>\n",
              "      <td>Brazil</td>\n",
              "      <td>Historical</td>\n",
              "      <td>EV charging points</td>\n",
              "      <td>EV</td>\n",
              "      <td>Publicly available slow</td>\n",
              "      <td>2020</td>\n",
              "      <td>charging points</td>\n",
              "      <td>454.407715</td>\n",
              "    </tr>\n",
              "    <tr>\n",
              "      <th>360</th>\n",
              "      <td>Brazil</td>\n",
              "      <td>Historical</td>\n",
              "      <td>EV charging points</td>\n",
              "      <td>EV</td>\n",
              "      <td>Publicly available slow</td>\n",
              "      <td>2021</td>\n",
              "      <td>charging points</td>\n",
              "      <td>454.407715</td>\n",
              "    </tr>\n",
              "  </tbody>\n",
              "</table>\n",
              "</div>\n",
              "      <button class=\"colab-df-convert\" onclick=\"convertToInteractive('df-0f4ce864-6f42-4af2-b85f-0d669ab5448b')\"\n",
              "              title=\"Convert this dataframe to an interactive table.\"\n",
              "              style=\"display:none;\">\n",
              "        \n",
              "  <svg xmlns=\"http://www.w3.org/2000/svg\" height=\"24px\"viewBox=\"0 0 24 24\"\n",
              "       width=\"24px\">\n",
              "    <path d=\"M0 0h24v24H0V0z\" fill=\"none\"/>\n",
              "    <path d=\"M18.56 5.44l.94 2.06.94-2.06 2.06-.94-2.06-.94-.94-2.06-.94 2.06-2.06.94zm-11 1L8.5 8.5l.94-2.06 2.06-.94-2.06-.94L8.5 2.5l-.94 2.06-2.06.94zm10 10l.94 2.06.94-2.06 2.06-.94-2.06-.94-.94-2.06-.94 2.06-2.06.94z\"/><path d=\"M17.41 7.96l-1.37-1.37c-.4-.4-.92-.59-1.43-.59-.52 0-1.04.2-1.43.59L10.3 9.45l-7.72 7.72c-.78.78-.78 2.05 0 2.83L4 21.41c.39.39.9.59 1.41.59.51 0 1.02-.2 1.41-.59l7.78-7.78 2.81-2.81c.8-.78.8-2.07 0-2.86zM5.41 20L4 18.59l7.72-7.72 1.47 1.35L5.41 20z\"/>\n",
              "  </svg>\n",
              "      </button>\n",
              "      \n",
              "  <style>\n",
              "    .colab-df-container {\n",
              "      display:flex;\n",
              "      flex-wrap:wrap;\n",
              "      gap: 12px;\n",
              "    }\n",
              "\n",
              "    .colab-df-convert {\n",
              "      background-color: #E8F0FE;\n",
              "      border: none;\n",
              "      border-radius: 50%;\n",
              "      cursor: pointer;\n",
              "      display: none;\n",
              "      fill: #1967D2;\n",
              "      height: 32px;\n",
              "      padding: 0 0 0 0;\n",
              "      width: 32px;\n",
              "    }\n",
              "\n",
              "    .colab-df-convert:hover {\n",
              "      background-color: #E2EBFA;\n",
              "      box-shadow: 0px 1px 2px rgba(60, 64, 67, 0.3), 0px 1px 3px 1px rgba(60, 64, 67, 0.15);\n",
              "      fill: #174EA6;\n",
              "    }\n",
              "\n",
              "    [theme=dark] .colab-df-convert {\n",
              "      background-color: #3B4455;\n",
              "      fill: #D2E3FC;\n",
              "    }\n",
              "\n",
              "    [theme=dark] .colab-df-convert:hover {\n",
              "      background-color: #434B5C;\n",
              "      box-shadow: 0px 1px 3px 1px rgba(0, 0, 0, 0.15);\n",
              "      filter: drop-shadow(0px 1px 2px rgba(0, 0, 0, 0.3));\n",
              "      fill: #FFFFFF;\n",
              "    }\n",
              "  </style>\n",
              "\n",
              "      <script>\n",
              "        const buttonEl =\n",
              "          document.querySelector('#df-0f4ce864-6f42-4af2-b85f-0d669ab5448b button.colab-df-convert');\n",
              "        buttonEl.style.display =\n",
              "          google.colab.kernel.accessAllowed ? 'block' : 'none';\n",
              "\n",
              "        async function convertToInteractive(key) {\n",
              "          const element = document.querySelector('#df-0f4ce864-6f42-4af2-b85f-0d669ab5448b');\n",
              "          const dataTable =\n",
              "            await google.colab.kernel.invokeFunction('convertToInteractive',\n",
              "                                                     [key], {});\n",
              "          if (!dataTable) return;\n",
              "\n",
              "          const docLinkHtml = 'Like what you see? Visit the ' +\n",
              "            '<a target=\"_blank\" href=https://colab.research.google.com/notebooks/data_table.ipynb>data table notebook</a>'\n",
              "            + ' to learn more about interactive tables.';\n",
              "          element.innerHTML = '';\n",
              "          dataTable['output_type'] = 'display_data';\n",
              "          await google.colab.output.renderOutput(dataTable, element);\n",
              "          const docLink = document.createElement('div');\n",
              "          docLink.innerHTML = docLinkHtml;\n",
              "          element.appendChild(docLink);\n",
              "        }\n",
              "      </script>\n",
              "    </div>\n",
              "  </div>\n",
              "  "
            ]
          },
          "metadata": {},
          "execution_count": 54
        }
      ]
    },
    {
      "cell_type": "code",
      "source": [
        "plt.figure(figsize=(7,7))\n",
        "g = sns.lineplot(y=dfbrazilcharge['value'], x = dfbrazilcharge['year'])\n",
        "plt.title('How many charging stations does Brazil have?')\n",
        "plt.xlabel('Year')\n",
        "plt.ylabel('Number of Charging Points')\n",
        "plt.show()"
      ],
      "metadata": {
        "colab": {
          "base_uri": "https://localhost:8080/",
          "height": 458
        },
        "id": "1_AGiAk_pwtL",
        "outputId": "bb177eac-a40b-4f29-b589-d6399c9cb874"
      },
      "execution_count": null,
      "outputs": [
        {
          "output_type": "display_data",
          "data": {
            "text/plain": [
              "<Figure size 504x504 with 1 Axes>"
            ],
            "image/png": "[encoded data removed]"
          },
          "metadata": {
            "needs_background": "light"
          }
        }
      ]
    },
    {
      "cell_type": "markdown",
      "source": [
        "# Column Explanation\n",
        "\n",
        "# *   Region:\n",
        "\n",
        "Shows every country that data was collected for and also includes an entry for all available countries each year labedl \"World\"\n",
        "\n",
        "# *   Category:\n",
        "\n",
        "\"**Historical**\" indicates that the data is collected from previous years.\n",
        "\n",
        "\"**Projection-APS**\" corresponds to the IEA Announced Pledges Scenario (APS), which is based on existing climate-focused policy pledges and announcements. It offers projected data for 2025 and 2030.\n",
        "\n",
        "\"**Project-STEPS**\" corresponds to the IEA Stated Policies Scenario (STEPS), which reflect current policy plans. \n",
        "\n",
        "# *   Parameter:\n",
        "\n",
        "Allows you to view specific kinds of data. \n",
        "\n",
        "\"**Electricity demand**\" measures how much electricty has been used per country in GWh, broken down by individual vehicle types per year.\n",
        "\n",
        "\"**EV charging points**\" measures how many charging points are available in each country and worldwide.\n",
        "\n",
        "\"**EV sales**\" measures how many electric vehicles were sold per country per year, by type of vehicle.  \n",
        "\n",
        "\"**EV sales share**\" indicates the percent of electric vehicles sold in comparison to how many total vehicles that specific country sold.\n",
        "\n",
        "\"**EV stock**\" measures how many electric vehicles were in inventory per country per year, by type of vehicle.  \n",
        "\n",
        "\"**EV stock share**\" indicates the percent of electric vehicles in inventory in comparison to how many total vehicles are in inventory in that specific country.\n",
        "\n",
        "\"**Oil displacement Mbd**\" measures how much oil is moved in million barrels per day.\n",
        "\n",
        "\"**Oil displacement Mlge**\" measures how much oil is moved in million litres gasoline equivalent.\n",
        "\n",
        "# *   Mode:\n",
        "\n",
        "The type of vehicle the data corresponds to. The options are \"**Busses**\", \"**Cars**\", \"**Trucks**\", and \"**Vans**\".\n",
        "\n",
        "The option of \"**EV**\" only corresponds to the parameter \"EV charging points\".\n",
        "\n",
        "# *   Powertrain:\n",
        "\n",
        "Indicates the kind of electricity used by the vehicles. The options are **EV** (Electric vehicles), **BEV** (battery electric vehicles), and **PHEV** (Plug-in hybrid electric vehicles).\n",
        "\n",
        "There are also options for \"**Publicly available fast**\" and \"**Publicly available slow**\" when the parameter is \"EV charging points\". \n",
        "\n",
        "# *   Year:\n",
        "\n",
        "Shows ever year the data was collected for each country up to 2021 and also includes projection values for 2025 and 2030. It is unclear how the project figures were calculated and if they represent the numbers each country would have to hit in order to reach their goals or if they are based on the historical data collected. We will have to conduct our own projections based on historical data. \n",
        "\n",
        "# *   Unit:\n",
        "\n",
        "\"**Charging points**\" the number of charging points available in a particular country.\n",
        "\n",
        "\"**GWh**\" stands for gigawatt hours and measures electricity demand for each country per type of vehicle. \n",
        "\n",
        "\"**Million barrels per day**\" measures oil displacement for each country per type of vehicle.\n",
        "\n",
        "\"**Million litres gasoline equivalent**\" measures oil displacement for each country per type of vehicle.\n",
        "\n",
        "\"**Percent**\" corresponds to \"EV sales share\" and \"EV sales stock\". \n",
        "\n",
        "\"**Sales**\" Counts the number of electric vehicles sold for each country per type of vehicle.\n",
        "\n",
        "\"**Stock**\" Counts the number of electric vehicles in inventory for each country per type of vehicle.\n",
        "\n",
        "# *   Value:\n",
        "\n",
        "A number that corresponds to the unit chosen. Whole numbers or percentage depending on the parameter and unit. "
      ],
      "metadata": {
        "id": "PN8D5k3W9dta"
      }
    },
    {
      "cell_type": "markdown",
      "source": [
        "# Assessing Data before Cleaning\n",
        "\n",
        "### What we found out:\n",
        "\n",
        "*   The dataset contains 7016 rows and 8 columns.\n",
        "*   There are no null values.\n",
        "*   There are 34 values under region. Two of them are \"World\" and \"Rest of world\", meaning we have data for 32 specific countries.\n",
        "*   Year(int) and Value(float) are the only numeric columns.\n",
        "*   The EV charging station option under parameter gives us how many charging stations a particular country had during a certain year. However, some countries have decimal points worth of charging stations. This doesn't make sense because you can't have half a charging station. We've reached out to the publishers of the dataset for clarification. \n",
        "*   List item\n",
        "\n",
        "\n",
        "*   List item\n",
        "*   Unique Values:\n",
        "\n",
        "  - region contains 34 unique values\n",
        "  - category contains 3 unique values\n",
        "  - parameter contains 8 unique values\n",
        "  - mode contains 5 unique values\n",
        "  - powertrain contains 5 unique values\n",
        "  - year contains 14 unique values\n",
        "  - unit contains 7 unique values\n",
        "  - value contains 5056 unique values\n",
        "\n",
        "\n",
        "\n",
        "\n",
        "\n",
        "\n",
        "\n"
      ],
      "metadata": {
        "id": "zyzzG2Rh584C"
      }
    },
    {
      "cell_type": "markdown",
      "source": [
        "# Data Cleaning\n",
        "\n",
        "  The data has no null values and no unnecessary rows. There are only two parts that needs to be cleaned One is the data type for the year column. It is currently an integer instead of datetime. The other is the decimal places for EV charging stations. While the column type will still be float to accomodate for other data points within that column, the rows that belong to EV charging stations should have only 0s in the decimal places. \n",
        "\n",
        "  We have reached out to the International Energy Agency (IEA) who published the data for clarifcation. In the meantime we will proceecd forward with data cleaning. First we will find which counrties have decimal data points under EV charging stations and then conduct our own research to figure out whether to round the number up or down. If no conclusive numbers can be found, we will round the number up or down according to the decimal places after it."
      ],
      "metadata": {
        "id": "uDz8lXK-Dc4G"
      }
    },
    {
      "cell_type": "code",
      "source": [
        "#df[['year']] = df[['year']].apply(pd.to_datetime), format='%Y-%m-%d').year\n",
        "\n",
        "df.year = pd.to_datetime(df.year, format='%Y')"
      ],
      "metadata": {
        "id": "-QSJpi8jrbC5"
      },
      "execution_count": null,
      "outputs": []
    },
    {
      "cell_type": "code",
      "source": [
        "df['Year'] = df['year'].dt.year"
      ],
      "metadata": {
        "id": "mGX3_4vDtLCi"
      },
      "execution_count": null,
      "outputs": []
    },
    {
      "cell_type": "code",
      "source": [
        "df.drop(\"year\", axis=1, inplace=True)"
      ],
      "metadata": {
        "id": "1ViibhZltXBI"
      },
      "execution_count": null,
      "outputs": []
    },
    {
      "cell_type": "code",
      "source": [
        "df['value_int'] = df.loc[:, 'value']"
      ],
      "metadata": {
        "id": "GUa4qYeADJzo"
      },
      "execution_count": null,
      "outputs": []
    },
    {
      "cell_type": "code",
      "source": [
        "df[['value_int']] = df[['value_int']].astype(int)"
      ],
      "metadata": {
        "id": "LsQzw0tsiaOm"
      },
      "execution_count": null,
      "outputs": []
    },
    {
      "cell_type": "code",
      "source": [
        "df.head()"
      ],
      "metadata": {
        "id": "kISwkONtiaRV",
        "colab": {
          "base_uri": "https://localhost:8080/",
          "height": 206
        },
        "outputId": "035e3797-959a-40c2-cbc5-e8e803c7de33"
      },
      "execution_count": null,
      "outputs": [
        {
          "output_type": "execute_result",
          "data": {
            "text/plain": [
              "      region    category       parameter  mode powertrain     unit      value  \\\n",
              "0  Australia  Historical        EV sales  Cars        BEV    sales  49.000000   \n",
              "1  Australia  Historical        EV stock  Cars        BEV    stock  49.000000   \n",
              "2  Australia  Historical  EV sales share  Cars         EV  percent   0.006479   \n",
              "3  Australia  Historical  EV stock share  Cars         EV  percent   0.000464   \n",
              "4  Australia  Historical  EV stock share  Cars         EV  percent   0.002785   \n",
              "\n",
              "   Year  value_int  \n",
              "0  2011         49  \n",
              "1  2011         49  \n",
              "2  2011          0  \n",
              "3  2011          0  \n",
              "4  2012          0  "
            ],
            "text/html": [
              "\n",
              "  <div id=\"df-1a479b0e-4a9d-4124-ad7f-5d2877d85a11\">\n",
              "    <div class=\"colab-df-container\">\n",
              "      <div>\n",
              "<style scoped>\n",
              "    .dataframe tbody tr th:only-of-type {\n",
              "        vertical-align: middle;\n",
              "    }\n",
              "\n",
              "    .dataframe tbody tr th {\n",
              "        vertical-align: top;\n",
              "    }\n",
              "\n",
              "    .dataframe thead th {\n",
              "        text-align: right;\n",
              "    }\n",
              "</style>\n",
              "<table border=\"1\" class=\"dataframe\">\n",
              "  <thead>\n",
              "    <tr style=\"text-align: right;\">\n",
              "      <th></th>\n",
              "      <th>region</th>\n",
              "      <th>category</th>\n",
              "      <th>parameter</th>\n",
              "      <th>mode</th>\n",
              "      <th>powertrain</th>\n",
              "      <th>unit</th>\n",
              "      <th>value</th>\n",
              "      <th>Year</th>\n",
              "      <th>value_int</th>\n",
              "    </tr>\n",
              "  </thead>\n",
              "  <tbody>\n",
              "    <tr>\n",
              "      <th>0</th>\n",
              "      <td>Australia</td>\n",
              "      <td>Historical</td>\n",
              "      <td>EV sales</td>\n",
              "      <td>Cars</td>\n",
              "      <td>BEV</td>\n",
              "      <td>sales</td>\n",
              "      <td>49.000000</td>\n",
              "      <td>2011</td>\n",
              "      <td>49</td>\n",
              "    </tr>\n",
              "    <tr>\n",
              "      <th>1</th>\n",
              "      <td>Australia</td>\n",
              "      <td>Historical</td>\n",
              "      <td>EV stock</td>\n",
              "      <td>Cars</td>\n",
              "      <td>BEV</td>\n",
              "      <td>stock</td>\n",
              "      <td>49.000000</td>\n",
              "      <td>2011</td>\n",
              "      <td>49</td>\n",
              "    </tr>\n",
              "    <tr>\n",
              "      <th>2</th>\n",
              "      <td>Australia</td>\n",
              "      <td>Historical</td>\n",
              "      <td>EV sales share</td>\n",
              "      <td>Cars</td>\n",
              "      <td>EV</td>\n",
              "      <td>percent</td>\n",
              "      <td>0.006479</td>\n",
              "      <td>2011</td>\n",
              "      <td>0</td>\n",
              "    </tr>\n",
              "    <tr>\n",
              "      <th>3</th>\n",
              "      <td>Australia</td>\n",
              "      <td>Historical</td>\n",
              "      <td>EV stock share</td>\n",
              "      <td>Cars</td>\n",
              "      <td>EV</td>\n",
              "      <td>percent</td>\n",
              "      <td>0.000464</td>\n",
              "      <td>2011</td>\n",
              "      <td>0</td>\n",
              "    </tr>\n",
              "    <tr>\n",
              "      <th>4</th>\n",
              "      <td>Australia</td>\n",
              "      <td>Historical</td>\n",
              "      <td>EV stock share</td>\n",
              "      <td>Cars</td>\n",
              "      <td>EV</td>\n",
              "      <td>percent</td>\n",
              "      <td>0.002785</td>\n",
              "      <td>2012</td>\n",
              "      <td>0</td>\n",
              "    </tr>\n",
              "  </tbody>\n",
              "</table>\n",
              "</div>\n",
              "      <button class=\"colab-df-convert\" onclick=\"convertToInteractive('df-1a479b0e-4a9d-4124-ad7f-5d2877d85a11')\"\n",
              "              title=\"Convert this dataframe to an interactive table.\"\n",
              "              style=\"display:none;\">\n",
              "        \n",
              "  <svg xmlns=\"http://www.w3.org/2000/svg\" height=\"24px\"viewBox=\"0 0 24 24\"\n",
              "       width=\"24px\">\n",
              "    <path d=\"M0 0h24v24H0V0z\" fill=\"none\"/>\n",
              "    <path d=\"M18.56 5.44l.94 2.06.94-2.06 2.06-.94-2.06-.94-.94-2.06-.94 2.06-2.06.94zm-11 1L8.5 8.5l.94-2.06 2.06-.94-2.06-.94L8.5 2.5l-.94 2.06-2.06.94zm10 10l.94 2.06.94-2.06 2.06-.94-2.06-.94-.94-2.06-.94 2.06-2.06.94z\"/><path d=\"M17.41 7.96l-1.37-1.37c-.4-.4-.92-.59-1.43-.59-.52 0-1.04.2-1.43.59L10.3 9.45l-7.72 7.72c-.78.78-.78 2.05 0 2.83L4 21.41c.39.39.9.59 1.41.59.51 0 1.02-.2 1.41-.59l7.78-7.78 2.81-2.81c.8-.78.8-2.07 0-2.86zM5.41 20L4 18.59l7.72-7.72 1.47 1.35L5.41 20z\"/>\n",
              "  </svg>\n",
              "      </button>\n",
              "      \n",
              "  <style>\n",
              "    .colab-df-container {\n",
              "      display:flex;\n",
              "      flex-wrap:wrap;\n",
              "      gap: 12px;\n",
              "    }\n",
              "\n",
              "    .colab-df-convert {\n",
              "      background-color: #E8F0FE;\n",
              "      border: none;\n",
              "      border-radius: 50%;\n",
              "      cursor: pointer;\n",
              "      display: none;\n",
              "      fill: #1967D2;\n",
              "      height: 32px;\n",
              "      padding: 0 0 0 0;\n",
              "      width: 32px;\n",
              "    }\n",
              "\n",
              "    .colab-df-convert:hover {\n",
              "      background-color: #E2EBFA;\n",
              "      box-shadow: 0px 1px 2px rgba(60, 64, 67, 0.3), 0px 1px 3px 1px rgba(60, 64, 67, 0.15);\n",
              "      fill: #174EA6;\n",
              "    }\n",
              "\n",
              "    [theme=dark] .colab-df-convert {\n",
              "      background-color: #3B4455;\n",
              "      fill: #D2E3FC;\n",
              "    }\n",
              "\n",
              "    [theme=dark] .colab-df-convert:hover {\n",
              "      background-color: #434B5C;\n",
              "      box-shadow: 0px 1px 3px 1px rgba(0, 0, 0, 0.15);\n",
              "      filter: drop-shadow(0px 1px 2px rgba(0, 0, 0, 0.3));\n",
              "      fill: #FFFFFF;\n",
              "    }\n",
              "  </style>\n",
              "\n",
              "      <script>\n",
              "        const buttonEl =\n",
              "          document.querySelector('#df-1a479b0e-4a9d-4124-ad7f-5d2877d85a11 button.colab-df-convert');\n",
              "        buttonEl.style.display =\n",
              "          google.colab.kernel.accessAllowed ? 'block' : 'none';\n",
              "\n",
              "        async function convertToInteractive(key) {\n",
              "          const element = document.querySelector('#df-1a479b0e-4a9d-4124-ad7f-5d2877d85a11');\n",
              "          const dataTable =\n",
              "            await google.colab.kernel.invokeFunction('convertToInteractive',\n",
              "                                                     [key], {});\n",
              "          if (!dataTable) return;\n",
              "\n",
              "          const docLinkHtml = 'Like what you see? Visit the ' +\n",
              "            '<a target=\"_blank\" href=https://colab.research.google.com/notebooks/data_table.ipynb>data table notebook</a>'\n",
              "            + ' to learn more about interactive tables.';\n",
              "          element.innerHTML = '';\n",
              "          dataTable['output_type'] = 'display_data';\n",
              "          await google.colab.output.renderOutput(dataTable, element);\n",
              "          const docLink = document.createElement('div');\n",
              "          docLink.innerHTML = docLinkHtml;\n",
              "          element.appendChild(docLink);\n",
              "        }\n",
              "      </script>\n",
              "    </div>\n",
              "  </div>\n",
              "  "
            ]
          },
          "metadata": {},
          "execution_count": 45
        }
      ]
    },
    {
      "cell_type": "markdown",
      "source": [
        "# Data Visualization and Exploration\n"
      ],
      "metadata": {
        "id": "hcICgX44xS0A"
      }
    },
    {
      "cell_type": "code",
      "source": [],
      "metadata": {
        "id": "rpEcR8HCxQMf"
      },
      "execution_count": null,
      "outputs": []
    },
    {
      "cell_type": "code",
      "source": [
        "#Here\n"
      ],
      "metadata": {
        "id": "p3_P7hfsxQPX"
      },
      "execution_count": null,
      "outputs": []
    },
    {
      "cell_type": "code",
      "source": [],
      "metadata": {
        "id": "O3BlMM8ExQS7"
      },
      "execution_count": null,
      "outputs": []
    },
    {
      "cell_type": "code",
      "source": [],
      "metadata": {
        "id": "DyCuftQ3xQVn"
      },
      "execution_count": null,
      "outputs": []
    },
    {
      "cell_type": "code",
      "source": [],
      "metadata": {
        "id": "1_8uMxf7xQZo"
      },
      "execution_count": null,
      "outputs": []
    },
    {
      "cell_type": "code",
      "source": [],
      "metadata": {
        "id": "krSDpFMOxQb3"
      },
      "execution_count": null,
      "outputs": []
    },
    {
      "cell_type": "markdown",
      "source": [
        "#Kub"
      ],
      "metadata": {
        "id": "kcRWO3hXyR4p"
      }
    },
    {
      "cell_type": "markdown",
      "source": [],
      "metadata": {
        "id": "LQMng67ByXdX"
      }
    },
    {
      "cell_type": "code",
      "source": [
        "#What’s the number of total available electric vehicles (EVs) on road per country (in the last available year)?"
      ],
      "metadata": {
        "id": "6Uqp3IwVyToE"
      },
      "execution_count": null,
      "outputs": []
    },
    {
      "cell_type": "code",
      "source": [
        "test = df.groupby(['region', 'Year'])['parameter']"
      ],
      "metadata": {
        "id": "yqZOb6qDyT6m"
      },
      "execution_count": null,
      "outputs": []
    },
    {
      "cell_type": "code",
      "source": [
        "test.head()"
      ],
      "metadata": {
        "colab": {
          "base_uri": "https://localhost:8080/"
        },
        "id": "SaewFZJtzprJ",
        "outputId": "bafb7353-4517-49ac-b593-e1dddc375bf2"
      },
      "execution_count": null,
      "outputs": [
        {
          "output_type": "execute_result",
          "data": {
            "text/plain": [
              "0             EV sales\n",
              "1             EV stock\n",
              "2       EV sales share\n",
              "3       EV stock share\n",
              "4       EV stock share\n",
              "             ...      \n",
              "6932    EV stock share\n",
              "6933    EV sales share\n",
              "6934    EV stock share\n",
              "6935    EV sales share\n",
              "6936    EV stock share\n",
              "Name: parameter, Length: 1909, dtype: object"
            ]
          },
          "metadata": {},
          "execution_count": 60
        }
      ]
    },
    {
      "cell_type": "markdown",
      "source": [],
      "metadata": {
        "id": "1tQ-XmFdyPxN"
      }
    },
    {
      "cell_type": "markdown",
      "source": [
        "# Appendix"
      ],
      "metadata": {
        "id": "b9oHGHo9jZ0h"
      }
    },
    {
      "cell_type": "markdown",
      "source": [
        "# Part 1: Data Preprocessing\n",
        "\n",
        "## Import Libraries "
      ],
      "metadata": {
        "id": "cG5Z1Hxl1z5D"
      }
    },
    {
      "cell_type": "code",
      "source": [
        "import numpy as np\n",
        "import pandas as pd\n",
        "from matplotlib import pyplot as py\n",
        "import seaborn as sns\n",
        "from sklearn.preprocessing import MultiLabelBinarizer \n",
        "import matplotlib.colors\n",
        "%pylab inline\n"
      ],
      "metadata": {
        "id": "_ApOt8nOxY0t",
        "colab": {
          "base_uri": "https://localhost:8080/"
        },
        "outputId": "89fef56a-29d8-46ca-b79c-b3b10a7acaff"
      },
      "execution_count": null,
      "outputs": [
        {
          "output_type": "stream",
          "name": "stdout",
          "text": [
            "Populating the interactive namespace from numpy and matplotlib\n"
          ]
        }
      ]
    },
    {
      "cell_type": "markdown",
      "source": [
        "## Load the dataset"
      ],
      "metadata": {
        "id": "3HI4Rptg2PdT"
      }
    },
    {
      "cell_type": "code",
      "source": [
        "from google.colab import drive\n",
        "drive.mount('/content/drive')"
      ],
      "metadata": {
        "colab": {
          "base_uri": "https://localhost:8080/"
        },
        "id": "ugmkp8Nk5avH",
        "outputId": "5c4b482d-1f8d-42f7-d1cf-ff8338514c49"
      },
      "execution_count": null,
      "outputs": [
        {
          "output_type": "stream",
          "name": "stdout",
          "text": [
            "Drive already mounted at /content/drive; to attempt to forcibly remount, call drive.mount(\"/content/drive\", force_remount=True).\n"
          ]
        }
      ]
    },
    {
      "cell_type": "code",
      "source": [
        "#Creating the dataframe df\n",
        "\n",
        "df = pd.read_csv('/content/drive/My Drive/IEA EV Data FULL - for Collab Lib.csv')"
      ],
      "metadata": {
        "id": "fJFG7SfU2OKW"
      },
      "execution_count": null,
      "outputs": []
    },
    {
      "cell_type": "markdown",
      "source": [
        "## Data Overview"
      ],
      "metadata": {
        "id": "mJO3Lscj2i-E"
      }
    },
    {
      "cell_type": "code",
      "source": [
        "df.info()"
      ],
      "metadata": {
        "id": "b_Z6N8ww2bXH",
        "colab": {
          "base_uri": "https://localhost:8080/"
        },
        "outputId": "53d6041d-4930-465c-c92d-496fc25fd491"
      },
      "execution_count": null,
      "outputs": [
        {
          "output_type": "stream",
          "name": "stdout",
          "text": [
            "<class 'pandas.core.frame.DataFrame'>\n",
            "RangeIndex: 7016 entries, 0 to 7015\n",
            "Data columns (total 8 columns):\n",
            " #   Column      Non-Null Count  Dtype  \n",
            "---  ------      --------------  -----  \n",
            " 0   region      7016 non-null   object \n",
            " 1   category    7016 non-null   object \n",
            " 2   parameter   7016 non-null   object \n",
            " 3   mode        7016 non-null   object \n",
            " 4   powertrain  7016 non-null   object \n",
            " 5   year        7016 non-null   int64  \n",
            " 6   unit        7016 non-null   object \n",
            " 7   value       7016 non-null   float64\n",
            "dtypes: float64(1), int64(1), object(6)\n",
            "memory usage: 438.6+ KB\n"
          ]
        }
      ]
    },
    {
      "cell_type": "code",
      "source": [
        "df.head()"
      ],
      "metadata": {
        "id": "7gP8JvDB5n-z",
        "colab": {
          "base_uri": "https://localhost:8080/",
          "height": 206
        },
        "outputId": "7d1d0630-be9a-4f9b-fbe2-b04159faa03a"
      },
      "execution_count": null,
      "outputs": [
        {
          "output_type": "execute_result",
          "data": {
            "text/plain": [
              "      region    category       parameter  mode powertrain  year     unit  \\\n",
              "0  Australia  Historical        EV sales  Cars        BEV  2011    sales   \n",
              "1  Australia  Historical        EV stock  Cars        BEV  2011    stock   \n",
              "2  Australia  Historical  EV sales share  Cars         EV  2011  percent   \n",
              "3  Australia  Historical  EV stock share  Cars         EV  2011  percent   \n",
              "4  Australia  Historical  EV stock share  Cars         EV  2012  percent   \n",
              "\n",
              "       value  \n",
              "0  49.000000  \n",
              "1  49.000000  \n",
              "2   0.006479  \n",
              "3   0.000464  \n",
              "4   0.002785  "
            ],
            "text/html": [
              "\n",
              "  <div id=\"df-750131bc-8670-46e6-a302-1a83e79c63ce\">\n",
              "    <div class=\"colab-df-container\">\n",
              "      <div>\n",
              "<style scoped>\n",
              "    .dataframe tbody tr th:only-of-type {\n",
              "        vertical-align: middle;\n",
              "    }\n",
              "\n",
              "    .dataframe tbody tr th {\n",
              "        vertical-align: top;\n",
              "    }\n",
              "\n",
              "    .dataframe thead th {\n",
              "        text-align: right;\n",
              "    }\n",
              "</style>\n",
              "<table border=\"1\" class=\"dataframe\">\n",
              "  <thead>\n",
              "    <tr style=\"text-align: right;\">\n",
              "      <th></th>\n",
              "      <th>region</th>\n",
              "      <th>category</th>\n",
              "      <th>parameter</th>\n",
              "      <th>mode</th>\n",
              "      <th>powertrain</th>\n",
              "      <th>year</th>\n",
              "      <th>unit</th>\n",
              "      <th>value</th>\n",
              "    </tr>\n",
              "  </thead>\n",
              "  <tbody>\n",
              "    <tr>\n",
              "      <th>0</th>\n",
              "      <td>Australia</td>\n",
              "      <td>Historical</td>\n",
              "      <td>EV sales</td>\n",
              "      <td>Cars</td>\n",
              "      <td>BEV</td>\n",
              "      <td>2011</td>\n",
              "      <td>sales</td>\n",
              "      <td>49.000000</td>\n",
              "    </tr>\n",
              "    <tr>\n",
              "      <th>1</th>\n",
              "      <td>Australia</td>\n",
              "      <td>Historical</td>\n",
              "      <td>EV stock</td>\n",
              "      <td>Cars</td>\n",
              "      <td>BEV</td>\n",
              "      <td>2011</td>\n",
              "      <td>stock</td>\n",
              "      <td>49.000000</td>\n",
              "    </tr>\n",
              "    <tr>\n",
              "      <th>2</th>\n",
              "      <td>Australia</td>\n",
              "      <td>Historical</td>\n",
              "      <td>EV sales share</td>\n",
              "      <td>Cars</td>\n",
              "      <td>EV</td>\n",
              "      <td>2011</td>\n",
              "      <td>percent</td>\n",
              "      <td>0.006479</td>\n",
              "    </tr>\n",
              "    <tr>\n",
              "      <th>3</th>\n",
              "      <td>Australia</td>\n",
              "      <td>Historical</td>\n",
              "      <td>EV stock share</td>\n",
              "      <td>Cars</td>\n",
              "      <td>EV</td>\n",
              "      <td>2011</td>\n",
              "      <td>percent</td>\n",
              "      <td>0.000464</td>\n",
              "    </tr>\n",
              "    <tr>\n",
              "      <th>4</th>\n",
              "      <td>Australia</td>\n",
              "      <td>Historical</td>\n",
              "      <td>EV stock share</td>\n",
              "      <td>Cars</td>\n",
              "      <td>EV</td>\n",
              "      <td>2012</td>\n",
              "      <td>percent</td>\n",
              "      <td>0.002785</td>\n",
              "    </tr>\n",
              "  </tbody>\n",
              "</table>\n",
              "</div>\n",
              "      <button class=\"colab-df-convert\" onclick=\"convertToInteractive('df-750131bc-8670-46e6-a302-1a83e79c63ce')\"\n",
              "              title=\"Convert this dataframe to an interactive table.\"\n",
              "              style=\"display:none;\">\n",
              "        \n",
              "  <svg xmlns=\"http://www.w3.org/2000/svg\" height=\"24px\"viewBox=\"0 0 24 24\"\n",
              "       width=\"24px\">\n",
              "    <path d=\"M0 0h24v24H0V0z\" fill=\"none\"/>\n",
              "    <path d=\"M18.56 5.44l.94 2.06.94-2.06 2.06-.94-2.06-.94-.94-2.06-.94 2.06-2.06.94zm-11 1L8.5 8.5l.94-2.06 2.06-.94-2.06-.94L8.5 2.5l-.94 2.06-2.06.94zm10 10l.94 2.06.94-2.06 2.06-.94-2.06-.94-.94-2.06-.94 2.06-2.06.94z\"/><path d=\"M17.41 7.96l-1.37-1.37c-.4-.4-.92-.59-1.43-.59-.52 0-1.04.2-1.43.59L10.3 9.45l-7.72 7.72c-.78.78-.78 2.05 0 2.83L4 21.41c.39.39.9.59 1.41.59.51 0 1.02-.2 1.41-.59l7.78-7.78 2.81-2.81c.8-.78.8-2.07 0-2.86zM5.41 20L4 18.59l7.72-7.72 1.47 1.35L5.41 20z\"/>\n",
              "  </svg>\n",
              "      </button>\n",
              "      \n",
              "  <style>\n",
              "    .colab-df-container {\n",
              "      display:flex;\n",
              "      flex-wrap:wrap;\n",
              "      gap: 12px;\n",
              "    }\n",
              "\n",
              "    .colab-df-convert {\n",
              "      background-color: #E8F0FE;\n",
              "      border: none;\n",
              "      border-radius: 50%;\n",
              "      cursor: pointer;\n",
              "      display: none;\n",
              "      fill: #1967D2;\n",
              "      height: 32px;\n",
              "      padding: 0 0 0 0;\n",
              "      width: 32px;\n",
              "    }\n",
              "\n",
              "    .colab-df-convert:hover {\n",
              "      background-color: #E2EBFA;\n",
              "      box-shadow: 0px 1px 2px rgba(60, 64, 67, 0.3), 0px 1px 3px 1px rgba(60, 64, 67, 0.15);\n",
              "      fill: #174EA6;\n",
              "    }\n",
              "\n",
              "    [theme=dark] .colab-df-convert {\n",
              "      background-color: #3B4455;\n",
              "      fill: #D2E3FC;\n",
              "    }\n",
              "\n",
              "    [theme=dark] .colab-df-convert:hover {\n",
              "      background-color: #434B5C;\n",
              "      box-shadow: 0px 1px 3px 1px rgba(0, 0, 0, 0.15);\n",
              "      filter: drop-shadow(0px 1px 2px rgba(0, 0, 0, 0.3));\n",
              "      fill: #FFFFFF;\n",
              "    }\n",
              "  </style>\n",
              "\n",
              "      <script>\n",
              "        const buttonEl =\n",
              "          document.querySelector('#df-750131bc-8670-46e6-a302-1a83e79c63ce button.colab-df-convert');\n",
              "        buttonEl.style.display =\n",
              "          google.colab.kernel.accessAllowed ? 'block' : 'none';\n",
              "\n",
              "        async function convertToInteractive(key) {\n",
              "          const element = document.querySelector('#df-750131bc-8670-46e6-a302-1a83e79c63ce');\n",
              "          const dataTable =\n",
              "            await google.colab.kernel.invokeFunction('convertToInteractive',\n",
              "                                                     [key], {});\n",
              "          if (!dataTable) return;\n",
              "\n",
              "          const docLinkHtml = 'Like what you see? Visit the ' +\n",
              "            '<a target=\"_blank\" href=https://colab.research.google.com/notebooks/data_table.ipynb>data table notebook</a>'\n",
              "            + ' to learn more about interactive tables.';\n",
              "          element.innerHTML = '';\n",
              "          dataTable['output_type'] = 'display_data';\n",
              "          await google.colab.output.renderOutput(dataTable, element);\n",
              "          const docLink = document.createElement('div');\n",
              "          docLink.innerHTML = docLinkHtml;\n",
              "          element.appendChild(docLink);\n",
              "        }\n",
              "      </script>\n",
              "    </div>\n",
              "  </div>\n",
              "  "
            ]
          },
          "metadata": {},
          "execution_count": 9
        }
      ]
    },
    {
      "cell_type": "code",
      "source": [
        "df.describe()"
      ],
      "metadata": {
        "id": "s04JnL-X5sCw",
        "colab": {
          "base_uri": "https://localhost:8080/",
          "height": 300
        },
        "outputId": "f360c021-3798-4352-8d63-239a5644fcb2"
      },
      "execution_count": null,
      "outputs": [
        {
          "output_type": "execute_result",
          "data": {
            "text/plain": [
              "              year         value\n",
              "count  7016.000000  7.016000e+03\n",
              "mean   2018.355046  2.702503e+05\n",
              "std       4.963079  3.515779e+06\n",
              "min    2010.000000  1.570000e-07\n",
              "25%    2015.000000  6.940689e-01\n",
              "50%    2018.000000  7.000000e+01\n",
              "75%    2021.000000  3.505750e+03\n",
              "max    2030.000000  1.888491e+08"
            ],
            "text/html": [
              "\n",
              "  <div id=\"df-f200f772-9b8a-4f51-b9ba-7dc70f190db1\">\n",
              "    <div class=\"colab-df-container\">\n",
              "      <div>\n",
              "<style scoped>\n",
              "    .dataframe tbody tr th:only-of-type {\n",
              "        vertical-align: middle;\n",
              "    }\n",
              "\n",
              "    .dataframe tbody tr th {\n",
              "        vertical-align: top;\n",
              "    }\n",
              "\n",
              "    .dataframe thead th {\n",
              "        text-align: right;\n",
              "    }\n",
              "</style>\n",
              "<table border=\"1\" class=\"dataframe\">\n",
              "  <thead>\n",
              "    <tr style=\"text-align: right;\">\n",
              "      <th></th>\n",
              "      <th>year</th>\n",
              "      <th>value</th>\n",
              "    </tr>\n",
              "  </thead>\n",
              "  <tbody>\n",
              "    <tr>\n",
              "      <th>count</th>\n",
              "      <td>7016.000000</td>\n",
              "      <td>7.016000e+03</td>\n",
              "    </tr>\n",
              "    <tr>\n",
              "      <th>mean</th>\n",
              "      <td>2018.355046</td>\n",
              "      <td>2.702503e+05</td>\n",
              "    </tr>\n",
              "    <tr>\n",
              "      <th>std</th>\n",
              "      <td>4.963079</td>\n",
              "      <td>3.515779e+06</td>\n",
              "    </tr>\n",
              "    <tr>\n",
              "      <th>min</th>\n",
              "      <td>2010.000000</td>\n",
              "      <td>1.570000e-07</td>\n",
              "    </tr>\n",
              "    <tr>\n",
              "      <th>25%</th>\n",
              "      <td>2015.000000</td>\n",
              "      <td>6.940689e-01</td>\n",
              "    </tr>\n",
              "    <tr>\n",
              "      <th>50%</th>\n",
              "      <td>2018.000000</td>\n",
              "      <td>7.000000e+01</td>\n",
              "    </tr>\n",
              "    <tr>\n",
              "      <th>75%</th>\n",
              "      <td>2021.000000</td>\n",
              "      <td>3.505750e+03</td>\n",
              "    </tr>\n",
              "    <tr>\n",
              "      <th>max</th>\n",
              "      <td>2030.000000</td>\n",
              "      <td>1.888491e+08</td>\n",
              "    </tr>\n",
              "  </tbody>\n",
              "</table>\n",
              "</div>\n",
              "      <button class=\"colab-df-convert\" onclick=\"convertToInteractive('df-f200f772-9b8a-4f51-b9ba-7dc70f190db1')\"\n",
              "              title=\"Convert this dataframe to an interactive table.\"\n",
              "              style=\"display:none;\">\n",
              "        \n",
              "  <svg xmlns=\"http://www.w3.org/2000/svg\" height=\"24px\"viewBox=\"0 0 24 24\"\n",
              "       width=\"24px\">\n",
              "    <path d=\"M0 0h24v24H0V0z\" fill=\"none\"/>\n",
              "    <path d=\"M18.56 5.44l.94 2.06.94-2.06 2.06-.94-2.06-.94-.94-2.06-.94 2.06-2.06.94zm-11 1L8.5 8.5l.94-2.06 2.06-.94-2.06-.94L8.5 2.5l-.94 2.06-2.06.94zm10 10l.94 2.06.94-2.06 2.06-.94-2.06-.94-.94-2.06-.94 2.06-2.06.94z\"/><path d=\"M17.41 7.96l-1.37-1.37c-.4-.4-.92-.59-1.43-.59-.52 0-1.04.2-1.43.59L10.3 9.45l-7.72 7.72c-.78.78-.78 2.05 0 2.83L4 21.41c.39.39.9.59 1.41.59.51 0 1.02-.2 1.41-.59l7.78-7.78 2.81-2.81c.8-.78.8-2.07 0-2.86zM5.41 20L4 18.59l7.72-7.72 1.47 1.35L5.41 20z\"/>\n",
              "  </svg>\n",
              "      </button>\n",
              "      \n",
              "  <style>\n",
              "    .colab-df-container {\n",
              "      display:flex;\n",
              "      flex-wrap:wrap;\n",
              "      gap: 12px;\n",
              "    }\n",
              "\n",
              "    .colab-df-convert {\n",
              "      background-color: #E8F0FE;\n",
              "      border: none;\n",
              "      border-radius: 50%;\n",
              "      cursor: pointer;\n",
              "      display: none;\n",
              "      fill: #1967D2;\n",
              "      height: 32px;\n",
              "      padding: 0 0 0 0;\n",
              "      width: 32px;\n",
              "    }\n",
              "\n",
              "    .colab-df-convert:hover {\n",
              "      background-color: #E2EBFA;\n",
              "      box-shadow: 0px 1px 2px rgba(60, 64, 67, 0.3), 0px 1px 3px 1px rgba(60, 64, 67, 0.15);\n",
              "      fill: #174EA6;\n",
              "    }\n",
              "\n",
              "    [theme=dark] .colab-df-convert {\n",
              "      background-color: #3B4455;\n",
              "      fill: #D2E3FC;\n",
              "    }\n",
              "\n",
              "    [theme=dark] .colab-df-convert:hover {\n",
              "      background-color: #434B5C;\n",
              "      box-shadow: 0px 1px 3px 1px rgba(0, 0, 0, 0.15);\n",
              "      filter: drop-shadow(0px 1px 2px rgba(0, 0, 0, 0.3));\n",
              "      fill: #FFFFFF;\n",
              "    }\n",
              "  </style>\n",
              "\n",
              "      <script>\n",
              "        const buttonEl =\n",
              "          document.querySelector('#df-f200f772-9b8a-4f51-b9ba-7dc70f190db1 button.colab-df-convert');\n",
              "        buttonEl.style.display =\n",
              "          google.colab.kernel.accessAllowed ? 'block' : 'none';\n",
              "\n",
              "        async function convertToInteractive(key) {\n",
              "          const element = document.querySelector('#df-f200f772-9b8a-4f51-b9ba-7dc70f190db1');\n",
              "          const dataTable =\n",
              "            await google.colab.kernel.invokeFunction('convertToInteractive',\n",
              "                                                     [key], {});\n",
              "          if (!dataTable) return;\n",
              "\n",
              "          const docLinkHtml = 'Like what you see? Visit the ' +\n",
              "            '<a target=\"_blank\" href=https://colab.research.google.com/notebooks/data_table.ipynb>data table notebook</a>'\n",
              "            + ' to learn more about interactive tables.';\n",
              "          element.innerHTML = '';\n",
              "          dataTable['output_type'] = 'display_data';\n",
              "          await google.colab.output.renderOutput(dataTable, element);\n",
              "          const docLink = document.createElement('div');\n",
              "          docLink.innerHTML = docLinkHtml;\n",
              "          element.appendChild(docLink);\n",
              "        }\n",
              "      </script>\n",
              "    </div>\n",
              "  </div>\n",
              "  "
            ]
          },
          "metadata": {},
          "execution_count": 10
        }
      ]
    },
    {
      "cell_type": "code",
      "source": [
        "for i in df.columns:\n",
        "    print(f'{i} contains {df[i].nunique()} unique values')"
      ],
      "metadata": {
        "id": "i_B1umAX5tVr",
        "colab": {
          "base_uri": "https://localhost:8080/"
        },
        "outputId": "f9cdb194-c713-4c91-8718-f5b8be670eb3"
      },
      "execution_count": null,
      "outputs": [
        {
          "output_type": "stream",
          "name": "stdout",
          "text": [
            "region contains 34 unique values\n",
            "category contains 3 unique values\n",
            "parameter contains 8 unique values\n",
            "mode contains 5 unique values\n",
            "powertrain contains 5 unique values\n",
            "year contains 14 unique values\n",
            "unit contains 7 unique values\n",
            "value contains 5056 unique values\n"
          ]
        }
      ]
    },
    {
      "cell_type": "code",
      "source": [
        "print(f'The earliest year listed is: {df.year.min()}\\nThe latest year listed is: {df.year.max()}')"
      ],
      "metadata": {
        "id": "Fm38YUOd5vGT",
        "colab": {
          "base_uri": "https://localhost:8080/"
        },
        "outputId": "61098623-e988-4ece-d840-68cbe08fa7cf"
      },
      "execution_count": null,
      "outputs": [
        {
          "output_type": "stream",
          "name": "stdout",
          "text": [
            "The earliest year listed is: 2010\n",
            "The latest year listed is: 2030\n"
          ]
        }
      ]
    },
    {
      "cell_type": "code",
      "source": [
        "df.isnull().sum()"
      ],
      "metadata": {
        "id": "DORNimGV54HK",
        "colab": {
          "base_uri": "https://localhost:8080/"
        },
        "outputId": "de1372c0-0043-42b3-8dd2-ac96c326750b"
      },
      "execution_count": null,
      "outputs": [
        {
          "output_type": "execute_result",
          "data": {
            "text/plain": [
              "region        0\n",
              "category      0\n",
              "parameter     0\n",
              "mode          0\n",
              "powertrain    0\n",
              "year          0\n",
              "unit          0\n",
              "value         0\n",
              "dtype: int64"
            ]
          },
          "metadata": {},
          "execution_count": 13
        }
      ]
    },
    {
      "cell_type": "code",
      "source": [
        "df.isnull().mean()"
      ],
      "metadata": {
        "id": "FtUrPc6w57ZC",
        "colab": {
          "base_uri": "https://localhost:8080/"
        },
        "outputId": "0cdd31b4-aa9c-48db-c849-6f5b6a16250e"
      },
      "execution_count": null,
      "outputs": [
        {
          "output_type": "execute_result",
          "data": {
            "text/plain": [
              "region        0.0\n",
              "category      0.0\n",
              "parameter     0.0\n",
              "mode          0.0\n",
              "powertrain    0.0\n",
              "year          0.0\n",
              "unit          0.0\n",
              "value         0.0\n",
              "dtype: float64"
            ]
          },
          "metadata": {},
          "execution_count": 14
        }
      ]
    }
  ]
}